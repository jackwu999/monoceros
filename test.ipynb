{
 "cells": [
  {
   "cell_type": "code",
   "execution_count": 4,
   "metadata": {},
   "outputs": [],
   "source": [
    "from plotly import graph_objects as go\n",
    "\n",
    "import pandas as pd\n",
    "import pandas_ta as ta\n",
    "import yfinance as yf\n",
    "import numpy as np\n",
    "\n",
    "from plotly.subplots import make_subplots\n",
    "import os\n",
    "from ta.volatility import BollingerBands\n",
    "from dash import Dash, dcc, html, Input, Output"
   ]
  },
  {
   "cell_type": "code",
   "execution_count": 16,
   "metadata": {},
   "outputs": [],
   "source": [
    "def load_data(symbol, interval):\n",
    "    data = yf.download(tickers=symbol, period=\"1d\", interval=interval)\n",
    "    df = pd.DataFrame(data)\n",
    "    df.dropna(inplace=True)\n",
    "    df = df.iloc[10:190]\n",
    "    df['Date'] = pd.to_datetime(df.index)\n",
    "    #  Create some indicators\n",
    "    df['EMA_9'] = ta.ema(df['Close'], length=9)\n",
    "    df['EMA_21'] = ta.ema(df['Close'], length=21)\n",
    "    # Initialize Bollinger Bands Indicator\n",
    "    indicator_bb = BollingerBands(close=df['Close'], window=20, window_dev=2)\n",
    "    # Add Bollinger Bands features\n",
    "    df['BB_HIGH'] = indicator_bb.bollinger_hband()\n",
    "    df['BB_LOW'] = indicator_bb.bollinger_lband()\n",
    "    return df\n",
    "\n"
   ]
  },
  {
   "cell_type": "code",
   "execution_count": 22,
   "metadata": {},
   "outputs": [
    {
     "name": "stdout",
     "output_type": "stream",
     "text": [
      "[*********************100%***********************]  1 of 1 completed\n"
     ]
    }
   ],
   "source": [
    "symbol = \"GOOGL\"\n",
    "interval = \"1m\"\n",
    "df = load_data(symbol, interval)\n",
    "\n",
    "if 'EMA_22' in df.columns:\n",
    "    print(\"yes\")\n"
   ]
  },
  {
   "cell_type": "code",
   "execution_count": 7,
   "metadata": {},
   "outputs": [
    {
     "name": "stdout",
     "output_type": "stream",
     "text": [
      "Index(['Open', 'High', 'Low', 'Close', 'Adj Close', 'Volume', 'Date', 'EMA_9',\n",
      "       'EMA_21', 'BB_HIGH', 'BB_LOW'],\n",
      "      dtype='object')\n",
      "Datetime\n",
      "2023-03-03 09:40:00-05:00   2023-03-03 09:40:00-05:00\n",
      "2023-03-03 09:41:00-05:00   2023-03-03 09:41:00-05:00\n",
      "2023-03-03 09:42:00-05:00   2023-03-03 09:42:00-05:00\n",
      "2023-03-03 09:43:00-05:00   2023-03-03 09:43:00-05:00\n",
      "2023-03-03 09:44:00-05:00   2023-03-03 09:44:00-05:00\n",
      "                                       ...           \n",
      "2023-03-03 12:35:00-05:00   2023-03-03 12:35:00-05:00\n",
      "2023-03-03 12:36:00-05:00   2023-03-03 12:36:00-05:00\n",
      "2023-03-03 12:37:00-05:00   2023-03-03 12:37:00-05:00\n",
      "2023-03-03 12:38:00-05:00   2023-03-03 12:38:00-05:00\n",
      "2023-03-03 12:39:00-05:00   2023-03-03 12:39:00-05:00\n",
      "Name: Date, Length: 180, dtype: datetime64[ns, America/New_York]\n"
     ]
    }
   ],
   "source": [
    "print(df.columns)\n",
    "print(df['Date'])"
   ]
  },
  {
   "cell_type": "code",
   "execution_count": 8,
   "metadata": {},
   "outputs": [
    {
     "name": "stdout",
     "output_type": "stream",
     "text": [
      "Index(['open', 'high', 'low', 'close', 'volume'], dtype='object')\n",
      "                         open      high       low     close     volume\n",
      "timestamp                                                             \n",
      "2021-01-01 00:01:00  28922.42  28961.66  28913.12  28961.66  27.234814\n",
      "2021-01-01 00:02:00  28961.67  29017.50  28961.01  29009.91  58.477501\n",
      "2021-01-01 00:03:00  29009.54  29016.71  28973.58  28989.30  42.470329\n",
      "2021-01-01 00:04:00  28989.68  28999.85  28972.33  28982.69  30.360677\n",
      "2021-01-01 00:05:00  28982.67  28995.93  28971.80  28975.65  24.124339\n",
      "...                       ...       ...       ...       ...        ...\n",
      "2021-01-01 23:56:00  29300.39  29315.00  29300.38  29309.60  13.034801\n",
      "2021-01-01 23:57:00  29309.59  29317.22  29303.10  29317.22  18.114122\n",
      "2021-01-01 23:58:00  29317.22  29319.26  29311.00  29319.20  11.583345\n",
      "2021-01-01 23:59:00  29319.20  29328.59  29314.00  29322.54  34.533058\n",
      "2021-01-02 00:00:00  29322.77  29338.89  29322.18  29331.69  29.966698\n",
      "\n",
      "[1440 rows x 5 columns]\n"
     ]
    }
   ],
   "source": [
    "df2 = pd.read_parquet('DATA/btcusdt/2021-01-01.parquet', engine='fastparquet')\n",
    "print(df2.columns)\n",
    "print(df2)"
   ]
  },
  {
   "cell_type": "code",
   "execution_count": 14,
   "metadata": {},
   "outputs": [],
   "source": [
    "from pathlib import Path\n",
    "import pandas as pd\n",
    "\n",
    "data_dir = Path('DATA/btcusdt')\n",
    "\n",
    "df = pd.concat(\n",
    "    pd.read_parquet(parquet_file, engine='fastparquet')\n",
    "    for parquet_file in data_dir.glob('*.parquet')\n",
    ")\n",
    "df['date'] = pd.to_datetime(df.index)\n",
    "df.set_index(\"date\", inplace=True)"
   ]
  },
  {
   "cell_type": "code",
   "execution_count": 15,
   "metadata": {},
   "outputs": [
    {
     "name": "stdout",
     "output_type": "stream",
     "text": [
      "525713\n",
      "                         open      high       low     close      volume\n",
      "date                                                                   \n",
      "2021-08-03 00:01:00  39146.86  39186.09  39108.71  39140.00  113.693042\n",
      "2021-08-03 00:02:00  39140.00  39169.85  39019.81  39091.44   83.994643\n",
      "2021-08-03 00:03:00  39093.74  39125.14  39028.35  39039.28  257.948455\n",
      "2021-08-03 00:04:00  39039.27  39054.34  38899.98  39011.33  186.984536\n",
      "2021-08-03 00:05:00  39011.32  39018.51  38915.51  38956.23   96.994671\n",
      "                open     high       low     close        volume\n",
      "date                                                           \n",
      "2021-01-31  28922.42  41950.0  28130.00  33087.33  3.436445e+06\n",
      "2021-02-28  33085.89  58352.8  32296.16  45063.42  2.516925e+06\n",
      "2021-03-31  45061.74  61844.0  44950.53  58731.37  2.097825e+06\n",
      "2021-04-30  58731.37  64854.0  46930.00  57717.55  1.993425e+06\n",
      "2021-05-31  57717.55  59500.0  30000.00  37307.15  3.535809e+06\n"
     ]
    }
   ],
   "source": [
    "print(len(df))\n",
    "df_2 = df.resample(\"1m\").agg(ta.CANGLE_AGG)\n",
    "print(df.iloc[0:5])\n",
    "print(df_2.iloc[0:5])"
   ]
  },
  {
   "cell_type": "code",
   "execution_count": 11,
   "metadata": {},
   "outputs": [],
   "source": [
    "def load_data_2(symbol):\n",
    "    data_dir = Path('DATA/' + symbol)\n",
    "    df = pd.concat(\n",
    "        pd.read_parquet(parquet_file, engine='fastparquet')\n",
    "        for parquet_file in data_dir.glob('*.parquet')\n",
    "    )\n",
    "    df.dropna(inplace=True)\n",
    "    df = df.iloc[10:190]\n",
    "    df['Date'] = pd.to_datetime(df.index)\n",
    "    #  Create some indicators\n",
    "    df['SMA_9'] = ta.sma(df['close'], length=9)\n",
    "    df['SMA_21'] = ta.sma(df['close'], length=21)\n",
    "    # Initialize Bollinger Bands Indicator\n",
    "    \n",
    "    \n",
    "    return df\n"
   ]
  },
  {
   "cell_type": "code",
   "execution_count": 12,
   "metadata": {},
   "outputs": [],
   "source": [
    "def plot_chart(symbol, df, theme):\n",
    "    dark_palette = {}\n",
    "    dark_palette[\"bg_color\"] = \"#2e2e2e\"\n",
    "    dark_palette[\"plot_bg_color\"] = \"#2e2e2e\"\n",
    "    dark_palette[\"grid_color\"] = \"#595656\"\n",
    "    dark_palette[\"text_color\"] = \"#ffffff\"\n",
    "    dark_palette[\"dark_candle\"] = \"#226287\"\n",
    "    dark_palette[\"light_candle\"] = \"#a6a4a4\"\n",
    "    dark_palette[\"volume_color\"] = \"#5c285b\"\n",
    "    dark_palette[\"border_color\"] = \"#ffffff\"\n",
    "    dark_palette[\"color_1\"] = \"#5c285b\"\n",
    "    dark_palette[\"color_2\"] = \"#802c62\"\n",
    "    dark_palette[\"color_3\"] = \"#a33262\"\n",
    "    dark_palette[\"color_4\"] = \"#c43d5c\"\n",
    "    dark_palette[\"color_5\"] = \"#de4f51\"\n",
    "    dark_palette[\"color_6\"] = \"#f26841\"\n",
    "    dark_palette[\"color_7\"] = \"#fd862b\"\n",
    "    dark_palette[\"color_8\"] = \"#ffa600\"\n",
    "    dark_palette[\"color_9\"] = \"#3366d6\"\n",
    "    light_palette = {}\n",
    "    light_palette[\"bg_color\"] = \"#ffffff\"\n",
    "    light_palette[\"plot_bg_color\"] = \"#ffffff\"\n",
    "    light_palette[\"grid_color\"] = \"#e6e6e6\"\n",
    "    light_palette[\"text_color\"] = \"#2e2e2e\"\n",
    "    light_palette[\"dark_candle\"] = \"#4d98c4\"\n",
    "    light_palette[\"light_candle\"] = \"#b1b7ba\"\n",
    "    light_palette[\"volume_color\"] = \"#c74e96\"\n",
    "    light_palette[\"border_color\"] = \"#2e2e2e\"\n",
    "    light_palette[\"color_1\"] = \"#5c285b\"\n",
    "    light_palette[\"color_2\"] = \"#802c62\"\n",
    "    light_palette[\"color_3\"] = \"#a33262\"\n",
    "    light_palette[\"color_4\"] = \"#c43d5c\"\n",
    "    light_palette[\"color_5\"] = \"#de4f51\"\n",
    "    light_palette[\"color_6\"] = \"#f26841\"\n",
    "    light_palette[\"color_7\"] = \"#fd862b\"\n",
    "    light_palette[\"color_8\"] = \"#ffa600\"\n",
    "    light_palette[\"color_9\"] = \"#3366d6\"\n",
    "    palette = light_palette\n",
    "    if theme == \"Dark Mode\":\n",
    "        palette = dark_palette\n",
    "    #  Create sub plots\n",
    "    fig = make_subplots(rows=4, cols=1, subplot_titles=[f\"{symbol} Chart\", '', '', 'Volume'], \\\n",
    "                        specs=[[{\"rowspan\": 3, \"secondary_y\": True}], [{\"secondary_y\": True}], [{\"secondary_y\": True}],\n",
    "                               [{\"secondary_y\": True}]], \\\n",
    "                        vertical_spacing=0.04, shared_xaxes=True)\n",
    "    #  Plot close price\n",
    "    fig.add_trace(go.Candlestick(x=df.index,\n",
    "                                 open=df['Open'],\n",
    "                                 close=df['Close'],\n",
    "                                 low=df['Low'],\n",
    "                                 high=df['High'],\n",
    "                                 increasing_line_color=palette['light_candle'], decreasing_line_color=palette['dark_candle'], name='Price'), row=1, col=1)\n",
    "    #  Add SMAs\n",
    "    fig.add_trace(go.Scatter(x=df.index, y=df['SMA_9'], line=dict(color=palette['color_3'], width=1), name=\"SMA 9\"),\n",
    "                  row=1, col=1)\n",
    "    fig.add_trace(go.Scatter(x=df.index, y=df['SMA_21'], line=dict(color=palette['color_8'], width=1), name=\"SMA 21\"), row=1,\n",
    "                  col=1)\n",
    "    \n",
    "    #  Volume Histogram\n",
    "    fig.add_trace(go.Bar(\n",
    "        name='Volume',\n",
    "        x=df.index, y=df['volume'], marker_color=palette['volume_color']), row=4,col=1)\n",
    "    fig.update_layout(\n",
    "            title={'text': '', 'x': 0.5},\n",
    "            font=dict(family=\"Verdana\", size=12, color=palette[\"text_color\"]),\n",
    "            autosize=True,\n",
    "            width=1280, height=720,\n",
    "            xaxis={\"rangeslider\": {\"visible\": False}},\n",
    "            plot_bgcolor=palette[\"plot_bg_color\"],\n",
    "            paper_bgcolor=palette[\"bg_color\"])\n",
    "    fig.update_yaxes(visible=False, secondary_y=True)\n",
    "    #  Change grid color\n",
    "    fig.update_xaxes(showline=True, linewidth=1, linecolor=palette[\"grid_color\"],gridcolor=palette[\"grid_color\"])\n",
    "    fig.update_yaxes(showline=True, linewidth=1, linecolor=palette[\"grid_color\"],gridcolor=palette[\"grid_color\"])\n",
    "    #  Create output file\n",
    "    #file_name = f\"{symbol}_chart.png\"\n",
    "    #fig.write_image(file_name, format=\"png\")\n",
    "    return fig"
   ]
  },
  {
   "cell_type": "code",
   "execution_count": 13,
   "metadata": {},
   "outputs": [
    {
     "name": "stdout",
     "output_type": "stream",
     "text": [
      "Dash is running on http://127.0.0.1:8050/\n",
      "\n",
      " * Serving Flask app '__main__'\n",
      " * Debug mode: on\n"
     ]
    },
    {
     "name": "stderr",
     "output_type": "stream",
     "text": [
      "Address already in use\n",
      "Port 8050 is in use by another program. Either identify and stop that program, or start the server with a different port.\n"
     ]
    },
    {
     "ename": "AttributeError",
     "evalue": "'tuple' object has no attribute 'tb_frame'",
     "output_type": "error",
     "traceback": [
      "\u001b[0;31m---------------------------------------------------------------------------\u001b[0m",
      "\u001b[0;31mOSError\u001b[0m                                   Traceback (most recent call last)",
      "File \u001b[0;32m~/miniconda3/envs/trading/lib/python3.10/site-packages/werkzeug/serving.py:710\u001b[0m, in \u001b[0;36mBaseWSGIServer.__init__\u001b[0;34m(self, host, port, app, handler, passthrough_errors, ssl_context, fd)\u001b[0m\n\u001b[1;32m    709\u001b[0m \u001b[39mtry\u001b[39;00m:\n\u001b[0;32m--> 710\u001b[0m     \u001b[39mself\u001b[39;49m\u001b[39m.\u001b[39;49mserver_bind()\n\u001b[1;32m    711\u001b[0m     \u001b[39mself\u001b[39m\u001b[39m.\u001b[39mserver_activate()\n",
      "File \u001b[0;32m~/miniconda3/envs/trading/lib/python3.10/http/server.py:137\u001b[0m, in \u001b[0;36mHTTPServer.server_bind\u001b[0;34m(self)\u001b[0m\n\u001b[1;32m    136\u001b[0m \u001b[39m\u001b[39m\u001b[39m\"\"\"Override server_bind to store the server name.\"\"\"\u001b[39;00m\n\u001b[0;32m--> 137\u001b[0m socketserver\u001b[39m.\u001b[39;49mTCPServer\u001b[39m.\u001b[39;49mserver_bind(\u001b[39mself\u001b[39;49m)\n\u001b[1;32m    138\u001b[0m host, port \u001b[39m=\u001b[39m \u001b[39mself\u001b[39m\u001b[39m.\u001b[39mserver_address[:\u001b[39m2\u001b[39m]\n",
      "File \u001b[0;32m~/miniconda3/envs/trading/lib/python3.10/socketserver.py:466\u001b[0m, in \u001b[0;36mTCPServer.server_bind\u001b[0;34m(self)\u001b[0m\n\u001b[1;32m    465\u001b[0m     \u001b[39mself\u001b[39m\u001b[39m.\u001b[39msocket\u001b[39m.\u001b[39msetsockopt(socket\u001b[39m.\u001b[39mSOL_SOCKET, socket\u001b[39m.\u001b[39mSO_REUSEADDR, \u001b[39m1\u001b[39m)\n\u001b[0;32m--> 466\u001b[0m \u001b[39mself\u001b[39;49m\u001b[39m.\u001b[39;49msocket\u001b[39m.\u001b[39;49mbind(\u001b[39mself\u001b[39;49m\u001b[39m.\u001b[39;49mserver_address)\n\u001b[1;32m    467\u001b[0m \u001b[39mself\u001b[39m\u001b[39m.\u001b[39mserver_address \u001b[39m=\u001b[39m \u001b[39mself\u001b[39m\u001b[39m.\u001b[39msocket\u001b[39m.\u001b[39mgetsockname()\n",
      "\u001b[0;31mOSError\u001b[0m: [Errno 48] Address already in use",
      "\nDuring handling of the above exception, another exception occurred:\n",
      "\u001b[0;31mSystemExit\u001b[0m                                Traceback (most recent call last)",
      "    \u001b[0;31m[... skipping hidden 1 frame]\u001b[0m\n",
      "Cell \u001b[0;32mIn[13], line 22\u001b[0m\n\u001b[1;32m     21\u001b[0m     \u001b[39mreturn\u001b[39;00m fig\n\u001b[0;32m---> 22\u001b[0m app\u001b[39m.\u001b[39;49mrun_server(debug\u001b[39m=\u001b[39;49m\u001b[39mTrue\u001b[39;49;00m)\n",
      "File \u001b[0;32m~/miniconda3/envs/trading/lib/python3.10/site-packages/dash/dash.py:2132\u001b[0m, in \u001b[0;36mDash.run_server\u001b[0;34m(self, *args, **kwargs)\u001b[0m\n\u001b[1;32m   2127\u001b[0m \u001b[39m\u001b[39m\u001b[39m\"\"\"`run_server` is a deprecated alias of `run` and may be removed in a\u001b[39;00m\n\u001b[1;32m   2128\u001b[0m \u001b[39mfuture version. We recommend using `app.run` instead.\u001b[39;00m\n\u001b[1;32m   2129\u001b[0m \n\u001b[1;32m   2130\u001b[0m \u001b[39mSee `app.run` for usage information.\u001b[39;00m\n\u001b[1;32m   2131\u001b[0m \u001b[39m\"\"\"\u001b[39;00m\n\u001b[0;32m-> 2132\u001b[0m \u001b[39mself\u001b[39;49m\u001b[39m.\u001b[39;49mrun(\u001b[39m*\u001b[39;49margs, \u001b[39m*\u001b[39;49m\u001b[39m*\u001b[39;49mkwargs)\n",
      "File \u001b[0;32m~/miniconda3/envs/trading/lib/python3.10/site-packages/dash/dash.py:1979\u001b[0m, in \u001b[0;36mDash.run\u001b[0;34m(self, host, port, proxy, debug, dev_tools_ui, dev_tools_props_check, dev_tools_serve_dev_bundles, dev_tools_hot_reload, dev_tools_hot_reload_interval, dev_tools_hot_reload_watch_interval, dev_tools_hot_reload_max_retry, dev_tools_silence_routes_logging, dev_tools_prune_errors, **flask_run_options)\u001b[0m\n\u001b[1;32m   1977\u001b[0m             extra_files\u001b[39m.\u001b[39mappend(path)\n\u001b[0;32m-> 1979\u001b[0m \u001b[39mself\u001b[39;49m\u001b[39m.\u001b[39;49mserver\u001b[39m.\u001b[39;49mrun(host\u001b[39m=\u001b[39;49mhost, port\u001b[39m=\u001b[39;49mport, debug\u001b[39m=\u001b[39;49mdebug, \u001b[39m*\u001b[39;49m\u001b[39m*\u001b[39;49mflask_run_options)\n",
      "File \u001b[0;32m~/miniconda3/envs/trading/lib/python3.10/site-packages/flask/app.py:1191\u001b[0m, in \u001b[0;36mFlask.run\u001b[0;34m(self, host, port, debug, load_dotenv, **options)\u001b[0m\n\u001b[1;32m   1190\u001b[0m \u001b[39mtry\u001b[39;00m:\n\u001b[0;32m-> 1191\u001b[0m     run_simple(t\u001b[39m.\u001b[39;49mcast(\u001b[39mstr\u001b[39;49m, host), port, \u001b[39mself\u001b[39;49m, \u001b[39m*\u001b[39;49m\u001b[39m*\u001b[39;49moptions)\n\u001b[1;32m   1192\u001b[0m \u001b[39mfinally\u001b[39;00m:\n\u001b[1;32m   1193\u001b[0m     \u001b[39m# reset the first request information if the development server\u001b[39;00m\n\u001b[1;32m   1194\u001b[0m     \u001b[39m# reset normally.  This makes it possible to restart the server\u001b[39;00m\n\u001b[1;32m   1195\u001b[0m     \u001b[39m# without reloader and that stuff from an interactive shell.\u001b[39;00m\n",
      "File \u001b[0;32m~/miniconda3/envs/trading/lib/python3.10/site-packages/werkzeug/serving.py:1037\u001b[0m, in \u001b[0;36mrun_simple\u001b[0;34m(hostname, port, application, use_reloader, use_debugger, use_evalex, extra_files, exclude_patterns, reloader_interval, reloader_type, threaded, processes, request_handler, static_files, passthrough_errors, ssl_context)\u001b[0m\n\u001b[1;32m   1035\u001b[0m     fd \u001b[39m=\u001b[39m \u001b[39mint\u001b[39m(os\u001b[39m.\u001b[39menviron[\u001b[39m\"\u001b[39m\u001b[39mWERKZEUG_SERVER_FD\u001b[39m\u001b[39m\"\u001b[39m])\n\u001b[0;32m-> 1037\u001b[0m srv \u001b[39m=\u001b[39m make_server(\n\u001b[1;32m   1038\u001b[0m     hostname,\n\u001b[1;32m   1039\u001b[0m     port,\n\u001b[1;32m   1040\u001b[0m     application,\n\u001b[1;32m   1041\u001b[0m     threaded,\n\u001b[1;32m   1042\u001b[0m     processes,\n\u001b[1;32m   1043\u001b[0m     request_handler,\n\u001b[1;32m   1044\u001b[0m     passthrough_errors,\n\u001b[1;32m   1045\u001b[0m     ssl_context,\n\u001b[1;32m   1046\u001b[0m     fd\u001b[39m=\u001b[39;49mfd,\n\u001b[1;32m   1047\u001b[0m )\n\u001b[1;32m   1048\u001b[0m srv\u001b[39m.\u001b[39msocket\u001b[39m.\u001b[39mset_inheritable(\u001b[39mTrue\u001b[39;00m)\n",
      "File \u001b[0;32m~/miniconda3/envs/trading/lib/python3.10/site-packages/werkzeug/serving.py:877\u001b[0m, in \u001b[0;36mmake_server\u001b[0;34m(host, port, app, threaded, processes, request_handler, passthrough_errors, ssl_context, fd)\u001b[0m\n\u001b[1;32m    876\u001b[0m \u001b[39mif\u001b[39;00m threaded:\n\u001b[0;32m--> 877\u001b[0m     \u001b[39mreturn\u001b[39;00m ThreadedWSGIServer(\n\u001b[1;32m    878\u001b[0m         host, port, app, request_handler, passthrough_errors, ssl_context, fd\u001b[39m=\u001b[39;49mfd\n\u001b[1;32m    879\u001b[0m     )\n\u001b[1;32m    881\u001b[0m \u001b[39mif\u001b[39;00m processes \u001b[39m>\u001b[39m \u001b[39m1\u001b[39m:\n",
      "File \u001b[0;32m~/miniconda3/envs/trading/lib/python3.10/site-packages/werkzeug/serving.py:733\u001b[0m, in \u001b[0;36mBaseWSGIServer.__init__\u001b[0;34m(self, host, port, app, handler, passthrough_errors, ssl_context, fd)\u001b[0m\n\u001b[1;32m    727\u001b[0m             \u001b[39mprint\u001b[39m(\n\u001b[1;32m    728\u001b[0m                 \u001b[39m\"\u001b[39m\u001b[39mOn macOS, try disabling the \u001b[39m\u001b[39m'\u001b[39m\u001b[39mAirPlay Receiver\u001b[39m\u001b[39m'\u001b[39m\u001b[39m service\u001b[39m\u001b[39m\"\u001b[39m\n\u001b[1;32m    729\u001b[0m                 \u001b[39m\"\u001b[39m\u001b[39m from System Preferences -> Sharing.\u001b[39m\u001b[39m\"\u001b[39m,\n\u001b[1;32m    730\u001b[0m                 file\u001b[39m=\u001b[39msys\u001b[39m.\u001b[39mstderr,\n\u001b[1;32m    731\u001b[0m             )\n\u001b[0;32m--> 733\u001b[0m     sys\u001b[39m.\u001b[39;49mexit(\u001b[39m1\u001b[39;49m)\n\u001b[1;32m    734\u001b[0m \u001b[39mexcept\u001b[39;00m \u001b[39mBaseException\u001b[39;00m:\n",
      "\u001b[0;31mSystemExit\u001b[0m: 1",
      "\nDuring handling of the above exception, another exception occurred:\n",
      "\u001b[0;31mAttributeError\u001b[0m                            Traceback (most recent call last)",
      "    \u001b[0;31m[... skipping hidden 1 frame]\u001b[0m\n",
      "File \u001b[0;32m~/miniconda3/envs/trading/lib/python3.10/site-packages/IPython/core/interactiveshell.py:2047\u001b[0m, in \u001b[0;36mInteractiveShell.showtraceback\u001b[0;34m(self, exc_tuple, filename, tb_offset, exception_only, running_compiled_code)\u001b[0m\n\u001b[1;32m   2044\u001b[0m \u001b[39mif\u001b[39;00m exception_only:\n\u001b[1;32m   2045\u001b[0m     stb \u001b[39m=\u001b[39m [\u001b[39m'\u001b[39m\u001b[39mAn exception has occurred, use \u001b[39m\u001b[39m%\u001b[39m\u001b[39mtb to see \u001b[39m\u001b[39m'\u001b[39m\n\u001b[1;32m   2046\u001b[0m            \u001b[39m'\u001b[39m\u001b[39mthe full traceback.\u001b[39m\u001b[39m\\n\u001b[39;00m\u001b[39m'\u001b[39m]\n\u001b[0;32m-> 2047\u001b[0m     stb\u001b[39m.\u001b[39mextend(\u001b[39mself\u001b[39;49m\u001b[39m.\u001b[39;49mInteractiveTB\u001b[39m.\u001b[39;49mget_exception_only(etype,\n\u001b[1;32m   2048\u001b[0m                                                      value))\n\u001b[1;32m   2049\u001b[0m \u001b[39melse\u001b[39;00m:\n\u001b[1;32m   2050\u001b[0m     \u001b[39mtry\u001b[39;00m:\n\u001b[1;32m   2051\u001b[0m         \u001b[39m# Exception classes can customise their traceback - we\u001b[39;00m\n\u001b[1;32m   2052\u001b[0m         \u001b[39m# use this in IPython.parallel for exceptions occurring\u001b[39;00m\n\u001b[1;32m   2053\u001b[0m         \u001b[39m# in the engines. This should return a list of strings.\u001b[39;00m\n",
      "File \u001b[0;32m~/miniconda3/envs/trading/lib/python3.10/site-packages/IPython/core/ultratb.py:636\u001b[0m, in \u001b[0;36mListTB.get_exception_only\u001b[0;34m(self, etype, value)\u001b[0m\n\u001b[1;32m    628\u001b[0m \u001b[39mdef\u001b[39;00m \u001b[39mget_exception_only\u001b[39m(\u001b[39mself\u001b[39m, etype, value):\n\u001b[1;32m    629\u001b[0m \u001b[39m    \u001b[39m\u001b[39m\"\"\"Only print the exception type and message, without a traceback.\u001b[39;00m\n\u001b[1;32m    630\u001b[0m \n\u001b[1;32m    631\u001b[0m \u001b[39m    Parameters\u001b[39;00m\n\u001b[0;32m   (...)\u001b[0m\n\u001b[1;32m    634\u001b[0m \u001b[39m    value : exception value\u001b[39;00m\n\u001b[1;32m    635\u001b[0m \u001b[39m    \"\"\"\u001b[39;00m\n\u001b[0;32m--> 636\u001b[0m     \u001b[39mreturn\u001b[39;00m ListTB\u001b[39m.\u001b[39;49mstructured_traceback(\u001b[39mself\u001b[39;49m, etype, value)\n",
      "File \u001b[0;32m~/miniconda3/envs/trading/lib/python3.10/site-packages/IPython/core/ultratb.py:503\u001b[0m, in \u001b[0;36mListTB.structured_traceback\u001b[0;34m(self, etype, evalue, etb, tb_offset, context)\u001b[0m\n\u001b[1;32m    500\u001b[0m     chained_exc_ids\u001b[39m.\u001b[39madd(\u001b[39mid\u001b[39m(exception[\u001b[39m1\u001b[39m]))\n\u001b[1;32m    501\u001b[0m     chained_exceptions_tb_offset \u001b[39m=\u001b[39m \u001b[39m0\u001b[39m\n\u001b[1;32m    502\u001b[0m     out_list \u001b[39m=\u001b[39m (\n\u001b[0;32m--> 503\u001b[0m         \u001b[39mself\u001b[39;49m\u001b[39m.\u001b[39;49mstructured_traceback(\n\u001b[1;32m    504\u001b[0m             etype, evalue, (etb, chained_exc_ids),\n\u001b[1;32m    505\u001b[0m             chained_exceptions_tb_offset, context)\n\u001b[1;32m    506\u001b[0m         \u001b[39m+\u001b[39m chained_exception_message\n\u001b[1;32m    507\u001b[0m         \u001b[39m+\u001b[39m out_list)\n\u001b[1;32m    509\u001b[0m \u001b[39mreturn\u001b[39;00m out_list\n",
      "File \u001b[0;32m~/miniconda3/envs/trading/lib/python3.10/site-packages/IPython/core/ultratb.py:1288\u001b[0m, in \u001b[0;36mAutoFormattedTB.structured_traceback\u001b[0;34m(self, etype, value, tb, tb_offset, number_of_lines_of_context)\u001b[0m\n\u001b[1;32m   1286\u001b[0m \u001b[39melse\u001b[39;00m:\n\u001b[1;32m   1287\u001b[0m     \u001b[39mself\u001b[39m\u001b[39m.\u001b[39mtb \u001b[39m=\u001b[39m tb\n\u001b[0;32m-> 1288\u001b[0m \u001b[39mreturn\u001b[39;00m FormattedTB\u001b[39m.\u001b[39;49mstructured_traceback(\n\u001b[1;32m   1289\u001b[0m     \u001b[39mself\u001b[39;49m, etype, value, tb, tb_offset, number_of_lines_of_context)\n",
      "File \u001b[0;32m~/miniconda3/envs/trading/lib/python3.10/site-packages/IPython/core/ultratb.py:1177\u001b[0m, in \u001b[0;36mFormattedTB.structured_traceback\u001b[0;34m(self, etype, value, tb, tb_offset, number_of_lines_of_context)\u001b[0m\n\u001b[1;32m   1174\u001b[0m mode \u001b[39m=\u001b[39m \u001b[39mself\u001b[39m\u001b[39m.\u001b[39mmode\n\u001b[1;32m   1175\u001b[0m \u001b[39mif\u001b[39;00m mode \u001b[39min\u001b[39;00m \u001b[39mself\u001b[39m\u001b[39m.\u001b[39mverbose_modes:\n\u001b[1;32m   1176\u001b[0m     \u001b[39m# Verbose modes need a full traceback\u001b[39;00m\n\u001b[0;32m-> 1177\u001b[0m     \u001b[39mreturn\u001b[39;00m VerboseTB\u001b[39m.\u001b[39;49mstructured_traceback(\n\u001b[1;32m   1178\u001b[0m         \u001b[39mself\u001b[39;49m, etype, value, tb, tb_offset, number_of_lines_of_context\n\u001b[1;32m   1179\u001b[0m     )\n\u001b[1;32m   1180\u001b[0m \u001b[39melif\u001b[39;00m mode \u001b[39m==\u001b[39m \u001b[39m'\u001b[39m\u001b[39mMinimal\u001b[39m\u001b[39m'\u001b[39m:\n\u001b[1;32m   1181\u001b[0m     \u001b[39mreturn\u001b[39;00m ListTB\u001b[39m.\u001b[39mget_exception_only(\u001b[39mself\u001b[39m, etype, value)\n",
      "File \u001b[0;32m~/miniconda3/envs/trading/lib/python3.10/site-packages/IPython/core/ultratb.py:1030\u001b[0m, in \u001b[0;36mVerboseTB.structured_traceback\u001b[0;34m(self, etype, evalue, etb, tb_offset, number_of_lines_of_context)\u001b[0m\n\u001b[1;32m   1021\u001b[0m \u001b[39mdef\u001b[39;00m \u001b[39mstructured_traceback\u001b[39m(\n\u001b[1;32m   1022\u001b[0m     \u001b[39mself\u001b[39m,\n\u001b[1;32m   1023\u001b[0m     etype: \u001b[39mtype\u001b[39m,\n\u001b[0;32m   (...)\u001b[0m\n\u001b[1;32m   1027\u001b[0m     number_of_lines_of_context: \u001b[39mint\u001b[39m \u001b[39m=\u001b[39m \u001b[39m5\u001b[39m,\n\u001b[1;32m   1028\u001b[0m ):\n\u001b[1;32m   1029\u001b[0m \u001b[39m    \u001b[39m\u001b[39m\"\"\"Return a nice text document describing the traceback.\"\"\"\u001b[39;00m\n\u001b[0;32m-> 1030\u001b[0m     formatted_exception \u001b[39m=\u001b[39m \u001b[39mself\u001b[39;49m\u001b[39m.\u001b[39;49mformat_exception_as_a_whole(etype, evalue, etb, number_of_lines_of_context,\n\u001b[1;32m   1031\u001b[0m                                                            tb_offset)\n\u001b[1;32m   1033\u001b[0m     colors \u001b[39m=\u001b[39m \u001b[39mself\u001b[39m\u001b[39m.\u001b[39mColors  \u001b[39m# just a shorthand + quicker name lookup\u001b[39;00m\n\u001b[1;32m   1034\u001b[0m     colorsnormal \u001b[39m=\u001b[39m colors\u001b[39m.\u001b[39mNormal  \u001b[39m# used a lot\u001b[39;00m\n",
      "File \u001b[0;32m~/miniconda3/envs/trading/lib/python3.10/site-packages/IPython/core/ultratb.py:935\u001b[0m, in \u001b[0;36mVerboseTB.format_exception_as_a_whole\u001b[0;34m(self, etype, evalue, etb, number_of_lines_of_context, tb_offset)\u001b[0m\n\u001b[1;32m    932\u001b[0m \u001b[39massert\u001b[39;00m \u001b[39misinstance\u001b[39m(tb_offset, \u001b[39mint\u001b[39m)\n\u001b[1;32m    933\u001b[0m head \u001b[39m=\u001b[39m \u001b[39mself\u001b[39m\u001b[39m.\u001b[39mprepare_header(etype, \u001b[39mself\u001b[39m\u001b[39m.\u001b[39mlong_header)\n\u001b[1;32m    934\u001b[0m records \u001b[39m=\u001b[39m (\n\u001b[0;32m--> 935\u001b[0m     \u001b[39mself\u001b[39;49m\u001b[39m.\u001b[39;49mget_records(etb, number_of_lines_of_context, tb_offset) \u001b[39mif\u001b[39;00m etb \u001b[39melse\u001b[39;00m []\n\u001b[1;32m    936\u001b[0m )\n\u001b[1;32m    938\u001b[0m frames \u001b[39m=\u001b[39m []\n\u001b[1;32m    939\u001b[0m skipped \u001b[39m=\u001b[39m \u001b[39m0\u001b[39m\n",
      "File \u001b[0;32m~/miniconda3/envs/trading/lib/python3.10/site-packages/IPython/core/ultratb.py:1002\u001b[0m, in \u001b[0;36mVerboseTB.get_records\u001b[0;34m(self, etb, number_of_lines_of_context, tb_offset)\u001b[0m\n\u001b[1;32m   1000\u001b[0m tbs \u001b[39m=\u001b[39m []\n\u001b[1;32m   1001\u001b[0m \u001b[39mwhile\u001b[39;00m cf \u001b[39mis\u001b[39;00m \u001b[39mnot\u001b[39;00m \u001b[39mNone\u001b[39;00m:\n\u001b[0;32m-> 1002\u001b[0m     source_file \u001b[39m=\u001b[39m inspect\u001b[39m.\u001b[39mgetsourcefile(etb\u001b[39m.\u001b[39;49mtb_frame)\n\u001b[1;32m   1003\u001b[0m     lines, first \u001b[39m=\u001b[39m inspect\u001b[39m.\u001b[39mgetsourcelines(etb\u001b[39m.\u001b[39mtb_frame)\n\u001b[1;32m   1004\u001b[0m     max_len \u001b[39m=\u001b[39m \u001b[39mmax\u001b[39m(max_len, first \u001b[39m+\u001b[39m \u001b[39mlen\u001b[39m(lines))\n",
      "\u001b[0;31mAttributeError\u001b[0m: 'tuple' object has no attribute 'tb_frame'"
     ]
    }
   ],
   "source": [
    "symbol = \"btcusdt\"\n",
    "df = load_data_2(symbol)\n",
    "#  Run Dash server\n",
    "app = Dash(__name__)\n",
    "app.layout = html.Div([\n",
    "    html.H2('Monoceros'),\n",
    "    html.P(\"Select Theme:\"),\n",
    "    dcc.Dropdown(\n",
    "        id=\"dropdown\",\n",
    "        options=['Dark Mode', 'Light Mode'],\n",
    "        value='Dark Mode',\n",
    "        clearable=False,\n",
    "    ),\n",
    "    dcc.Graph(id=\"graph\"),\n",
    "])\n",
    "@app.callback(\n",
    "    Output(\"graph\", \"figure\"),\n",
    "    Input(\"dropdown\", \"value\"))\n",
    "def display_color(theme):\n",
    "    fig = plot_chart(symbol, df, theme)\n",
    "    return fig\n",
    "app.run_server(debug=True)"
   ]
  },
  {
   "cell_type": "code",
   "execution_count": null,
   "metadata": {},
   "outputs": [],
   "source": []
  },
  {
   "cell_type": "code",
   "execution_count": null,
   "metadata": {},
   "outputs": [],
   "source": []
  }
 ],
 "metadata": {
  "kernelspec": {
   "display_name": "trading",
   "language": "python",
   "name": "python3"
  },
  "language_info": {
   "codemirror_mode": {
    "name": "ipython",
    "version": 3
   },
   "file_extension": ".py",
   "mimetype": "text/x-python",
   "name": "python",
   "nbconvert_exporter": "python",
   "pygments_lexer": "ipython3",
   "version": "3.10.9"
  },
  "orig_nbformat": 4,
  "vscode": {
   "interpreter": {
    "hash": "ec005774dd1be5cd1ebca8247adab86e71aff4ffd99d91c920de70417d89ae95"
   }
  }
 },
 "nbformat": 4,
 "nbformat_minor": 2
}
